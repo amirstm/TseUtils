{
 "cells": [
  {
   "cell_type": "markdown",
   "metadata": {},
   "source": [
    "## TSETMC"
   ]
  },
  {
   "cell_type": "code",
   "execution_count": null,
   "metadata": {},
   "outputs": [],
   "source": [
    "import unittest, sys, asyncio\n",
    "sys.path.append(\"..\")\n",
    "from tse_utils.tsetmc import TsetmcScraper, TseClientScraper"
   ]
  },
  {
   "cell_type": "code",
   "execution_count": 2,
   "metadata": {},
   "outputs": [],
   "source": [
    "client = TseClientScraper()\n",
    "\n",
    "raw = await client.get_instruments_list_raw()\n",
    "instruments, indices = await client.get_instruments_list()\n"
   ]
  },
  {
   "cell_type": "code",
   "execution_count": 2,
   "metadata": {},
   "outputs": [],
   "source": [
    "tsetmc = TsetmcScraper()\n",
    "\n",
    "watch = await tsetmc.get_market_watch()\n",
    "ct = await tsetmc.get_client_type_all()"
   ]
  },
  {
   "cell_type": "code",
   "execution_count": 6,
   "metadata": {},
   "outputs": [
    {
     "data": {
      "text/plain": [
       "MarketWatchTradeData(isin='IRO9IKCO2311', tsetmc_code='32244060193084591', ticker='ضخود8018', name_persian='اختيارخ خودرو-2600-1402/08/03', last_trade_time=datetime.time(12, 29, 58), close_price=582.0, last_price=576.0, open_price=577.0, max_price=596.0, min_price=569.0, previous_price=574.0, max_price_threshold=100000.0, min_price_threshold=1, trade_num=3328.0, trade_value=274999892000.0, trade_volume=472175.0, eps=0.0, total_shares=1000.0, base_volume=1.0, best_limits=MarketWatchBestLimits(rows=[MarketWatchBestLimitsRow(demand_num=1, demand_volume=2, demand_price=575.0, supply_num=1, supply_volume=71, supply_price=576.0, id=12243437987), MarketWatchBestLimitsRow(demand_num=1, demand_volume=20, demand_price=574.0, supply_num=1, supply_volume=950, supply_price=577.0, id=12243431268), MarketWatchBestLimitsRow(demand_num=2, demand_volume=510, demand_price=573.0, supply_num=2, supply_volume=2000, supply_price=578.0, id=12243431268), MarketWatchBestLimitsRow(demand_num=2, demand_volume=2, demand_price=572.0, supply_num=2, supply_volume=934, supply_price=579.0, id=12243431268), MarketWatchBestLimitsRow(demand_num=4, demand_volume=452, demand_price=571.0, supply_num=6, supply_volume=3680, supply_price=580.0, id=12243431268)]))"
      ]
     },
     "execution_count": 6,
     "metadata": {},
     "output_type": "execute_result"
    }
   ],
   "source": [
    "selected = next(x for x in watch if x.ticker == \"ضخود8018\")\n",
    "selected"
   ]
  },
  {
   "cell_type": "code",
   "execution_count": 8,
   "metadata": {},
   "outputs": [
    {
     "data": {
      "text/plain": [
       "InstrumentOptionInfo(tsetmc_code='32244060193084591', open_positions=1891139, exercise_price=2600.0, exercise_date=datetime.date(2023, 10, 25), lot_size=1000, begin_date=datetime.date(2023, 5, 27), a_factor=0.2, b_factor=0.1, c_factor=10000.0, underlying_tsetmc_code='65883838195688438')"
      ]
     },
     "execution_count": 8,
     "metadata": {},
     "output_type": "execute_result"
    }
   ],
   "source": [
    "optionData = await tsetmc.get_instrument_option_info(selected.isin)\n",
    "optionData"
   ]
  },
  {
   "cell_type": "code",
   "execution_count": 9,
   "metadata": {},
   "outputs": [
    {
     "data": {
      "text/plain": [
       "InstrumentIdentity(isin='IRO9IKCO2311', tsetmc_code=None, ticker='ضخود8018', name_persian='اختيارخ خودرو-2600-1402/08/03', name_english='IKCO-O-14020803', market_code='8', market_title=\"-'\", sector_code=34, sector_title='خودرو و ساخت قطعات', sub_sector_code=3410, sub_sector_title='توليد وسايل نقليه موتوري', type_id=311)"
      ]
     },
     "execution_count": 9,
     "metadata": {},
     "output_type": "execute_result"
    }
   ],
   "source": [
    "identity = await tsetmc.get_instrument_identity(selected.tsetmc_code)\n",
    "identity"
   ]
  },
  {
   "cell_type": "markdown",
   "metadata": {},
   "source": [
    "## ENUMS"
   ]
  },
  {
   "cell_type": "code",
   "execution_count": 1,
   "metadata": {},
   "outputs": [],
   "source": [
    "import sys\n",
    "sys.path.append(\"..\")\n",
    "from tse_utils.models.enums import * "
   ]
  },
  {
   "cell_type": "code",
   "execution_count": 2,
   "metadata": {},
   "outputs": [
    {
     "name": "stdout",
     "output_type": "stream",
     "text": [
      "state1.is_active() = True\n",
      "state2.is_active() = False\n"
     ]
    }
   ],
   "source": [
    "state1 = OrderState.ACTIVE\n",
    "state2 = OrderState.EXECUTED\n",
    "print(f\"state1.is_active() = {state1.is_active()}\")\n",
    "print(f\"state2.is_active() = {state2.is_active()}\")\n"
   ]
  },
  {
   "cell_type": "markdown",
   "metadata": {},
   "source": [
    "## Thread Safety"
   ]
  },
  {
   "cell_type": "code",
   "execution_count": 1,
   "metadata": {},
   "outputs": [],
   "source": [
    "import sys, asyncio, threading\n",
    "sys.path.append(\"..\")\n",
    "from tse_utils.models.enums import * \n",
    "from tse_utils.models import trade"
   ]
  },
  {
   "cell_type": "code",
   "execution_count": 3,
   "metadata": {},
   "outputs": [
    {
     "name": "stdout",
     "output_type": "stream",
     "text": [
      "Inserting MicroTrade(isin=None, side=None, quantity=1, price=None, datetime=None, htn=None)\n",
      "Inserted MicroTrade(isin=None, side=None, quantity=1, price=None, datetime=None, htn=None)\n",
      "Loading trades\n",
      "Inserting MicroTrade(isin=None, side=None, quantity=2, price=None, datetime=None, htn=None)\n",
      "Inserted MicroTrade(isin=None, side=None, quantity=2, price=None, datetime=None, htn=None)\n"
     ]
    }
   ],
   "source": [
    "order = trade.Order(oms_id=1, isin=\"IRO1FOLD0001\", side=TradeSide.BUY)\n",
    "order.add_trade(trade.MicroTrade(quantity=1))\n",
    "\n",
    "thread1 = threading.Thread(target = order.get_trades)\n",
    "thread1.start()\n",
    "\n",
    "thread2 = threading.Thread(target = order.add_trade, args=[trade.MicroTrade(quantity=2)])\n",
    "thread2.start()\n",
    "\n",
    "thread1.join()\n",
    "thread2.join()"
   ]
  },
  {
   "cell_type": "code",
   "execution_count": 2,
   "metadata": {},
   "outputs": [
    {
     "name": "stdout",
     "output_type": "stream",
     "text": [
      "Inserting MicroTrade(isin=None, side=None, quantity=1, price=None, datetime=None, htn=None)\n",
      "Inserted MicroTrade(isin=None, side=None, quantity=1, price=None, datetime=None, htn=None)\n",
      "Loading trades\n",
      "Inserting MicroTrade(isin=None, side=None, quantity=2, price=None, datetime=None, htn=None)\n",
      "Inserted MicroTrade(isin=None, side=None, quantity=2, price=None, datetime=None, htn=None)\n"
     ]
    }
   ],
   "source": [
    "order = trade.Order(oms_id=1, isin=\"IRO1FOLD0001\", side=TradeSide.BUY)\n",
    "order.add_trade(trade.MicroTrade(quantity=1))\n",
    "\n",
    "trades = order.get_trades()\n",
    "\n",
    "thread2 = threading.Thread(target = order.add_trade, args=[trade.MicroTrade(quantity=2)])\n",
    "thread2.start()\n",
    "trades.append(trade.MicroTrade(quantity=3))\n",
    "trades[0].quantity = 10\n",
    "thread2.join()"
   ]
  },
  {
   "cell_type": "code",
   "execution_count": 3,
   "metadata": {},
   "outputs": [
    {
     "data": {
      "text/plain": [
       "[MicroTrade(isin=None, side=None, quantity=10, price=None, datetime=None, htn=None),\n",
       " MicroTrade(isin=None, side=None, quantity=3, price=None, datetime=None, htn=None)]"
      ]
     },
     "execution_count": 3,
     "metadata": {},
     "output_type": "execute_result"
    }
   ],
   "source": [
    "trades"
   ]
  },
  {
   "cell_type": "code",
   "execution_count": 4,
   "metadata": {},
   "outputs": [
    {
     "name": "stdout",
     "output_type": "stream",
     "text": [
      "Loading trades\n"
     ]
    },
    {
     "data": {
      "text/plain": [
       "[MicroTrade(isin=None, side=None, quantity=10, price=None, datetime=None, htn=None),\n",
       " MicroTrade(isin=None, side=None, quantity=2, price=None, datetime=None, htn=None)]"
      ]
     },
     "execution_count": 4,
     "metadata": {},
     "output_type": "execute_result"
    }
   ],
   "source": [
    "order.get_trades()"
   ]
  },
  {
   "cell_type": "code",
   "execution_count": null,
   "metadata": {},
   "outputs": [],
   "source": []
  }
 ],
 "metadata": {
  "kernelspec": {
   "display_name": "Python 3",
   "language": "python",
   "name": "python3"
  },
  "language_info": {
   "codemirror_mode": {
    "name": "ipython",
    "version": 3
   },
   "file_extension": ".py",
   "mimetype": "text/x-python",
   "name": "python",
   "nbconvert_exporter": "python",
   "pygments_lexer": "ipython3",
   "version": "3.10.12"
  },
  "orig_nbformat": 4
 },
 "nbformat": 4,
 "nbformat_minor": 2
}
